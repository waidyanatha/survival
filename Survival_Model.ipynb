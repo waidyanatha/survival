{
 "cells": [
  {
   "cell_type": "markdown",
   "metadata": {},
   "source": [
    "# Breast Cancer with mutation \"survival model\"\n",
    "\n",
    "_Survival Analysis_ is a set of statistical tools, which addresses questions such as ‘*how long would it be, before a particular event occurs*’; in other words we can also call it as a ‘*time to event*’ analysis. Of particulat interst to this estimation is \"*what is the likelihood that a patient will survive, after being diagnosed of breast cancer with a small chance of the cancer mutating?*\" \n",
    "\n",
    "## Problem to solve\n",
    "###  Calculate the estimation accuracy when the study sample size is 1500. "
   ]
  },
  {
   "cell_type": "code",
   "execution_count": 7,
   "metadata": {},
   "outputs": [],
   "source": [
    "brca_sample_size = 1500"
   ]
  },
  {
   "cell_type": "markdown",
   "metadata": {},
   "source": [
    "Using published BReast CAncer (BRCA) germline mutation rates (5.6%), approximately 84 early patients were positive for BRCA mutations. Assuming 76 patients survived for 5 years (90%), regardless of the sample size, at least 10 years of follow-up is required to estimate the half-width of the 95% confidence interval. Therefore, the survival analysis will calculate the survival rate of 2, 3, 4, 5, 6 years. The 5-year survival rate is about 90%, which can be estimated as 95% CI, ie +/- 10%, and 85% to 95% is acceptable."
   ]
  },
  {
   "cell_type": "code",
   "execution_count": 8,
   "metadata": {},
   "outputs": [],
   "source": [
    "p1=.90\n",
    "p_diff=.05\n",
    "alpha=.05"
   ]
  },
  {
   "cell_type": "markdown",
   "metadata": {},
   "source": [
    "* Group **BRCA_Mutation** - those who *have* mutated, given they have BRCA\n",
    "* Group **BRCA** - those who *have NOT* mutated, given they have BRCA\n",
    "* Group **Neither** - those from the sample that do not have BRCA\n",
    "\n",
    "[First calculate the CI](http://napitupulu-jon.appspot.com/posts/confidence-interval-coursera-statistics.html) - to ensure that we don't by any chance miss the population parameter and have a good chance of capturing the BRCA patients with mutation (i.e. BRCA_Mutation) a 95% CI would require a sample size of: "
   ]
  },
  {
   "cell_type": "code",
   "execution_count": 9,
   "metadata": {},
   "outputs": [
    {
     "name": "stdout",
     "output_type": "stream",
     "text": [
      "151\n"
     ]
    }
   ],
   "source": [
    "import math\n",
    "import numpy as np\n",
    "from scipy import stats\n",
    "import pandas as pd\n",
    "import seaborn as sns\n",
    "\n",
    "def z_calc(p1, p2, n1, n2):\n",
    "    p_star = (p1*n1 + p2*n2) / (n1 + n2)\n",
    "    return (p2 - p1) / math.sqrt(p_star*(1 - p_star)*((1.0 / n1) + (1.0 / n2)))\n",
    "\n",
    "def sample_required(p1, p_diff, alpha):\n",
    "    if p_diff <= 0:\n",
    "        raise ValueError(\"p_diff must be > 0\")\n",
    "    n = 1\n",
    "    while True:\n",
    "        z = z_calc(p1, p1+p_diff, n1=n, n2=n)\n",
    "        p = 1 - stats.norm.cdf(z)\n",
    "        if p < alpha:\n",
    "            break\n",
    "        n += 1\n",
    "    return n\n",
    "\n",
    "print(str(sample_required(p1, p_diff, alpha)))"
   ]
  },
  {
   "cell_type": "markdown",
   "metadata": {},
   "source": [
    "Using published BReast CAncer (BRCA) germline mutation rates (5.6%), approximately 84 early patients were positive for BRCA mutations. Assuming 76 patients survived for 5 years (90%), regardless of the sample size, at least 10 years of follow-up is required to estimate the half-width of the 95% confidence interval. Therefore, the survival analysis will calculate the survival rate of 2, 3, 4, 5, 6 years. The 5-year survival rate is about 90%, which can be estimated as 95% CI, ie +/- 10%, and 85% to 95% is acceptable.\n",
    "\n",
    "* Group **BRCA_Mutation** - those who *have* mutated, given they have BRCA\n",
    "* Group **BRCA** - those who *have NOT* mutated, given they have BRCA\n",
    "* Group **Neither** - those from the sample that do not have BRCA\n",
    "\n",
    "[First calculate the CI](http://napitupulu-jon.appspot.com/posts/confidence-interval-coursera-statistics.html) - to ensure that we don't by any chance miss the population parameter and have a good chance of capturing the BRCA patients with mutation (i.e. BRCA_Mutation) a 95% CI would require a sample size of: "
   ]
  },
  {
   "cell_type": "code",
   "execution_count": 13,
   "metadata": {},
   "outputs": [
    {
     "name": "stdout",
     "output_type": "stream",
     "text": [
      "number of positive cases for BRCA mutation, with a mutation rate of 0.056 form the sample size of 151, is \n",
      "number of postive cases that survived for 5 years = 0.9047619047619048\n"
     ]
    }
   ],
   "source": [
    "## sample size\n",
    "sample_size = sample_required(p1, p_diff, alpha)\n",
    "## mutation rate of the poisitve for BRCA mutation\n",
    "mutation_rate = 0.056\n",
    "## approx. 84 patients of the 1500 were positive for BRCA mutation\n",
    "print (\"number of positive cases for BRCA mutation, with a mutation rate of {} form the sample size of {}, is \".format(mutation_rate, sample_size,sample_size*mutation_rate))\n",
    "early_patients_positive = 84\n",
    "## Assuming 76 patients survived for 5 years (90%)\n",
    "survival_time_yrs = 5\n",
    "num_patients_survive_5yrs = 76\n",
    "print (\"number of postive cases that survived for 5 years = {}\".format(num_patients_survive_5yrs/early_patients_positive))\n",
    "## < 10 years of follow-up is required to estimate the half-width of the 95% confidence interval\n",
    "half_width_95pcent_conf = 76"
   ]
  },
  {
   "cell_type": "markdown",
   "metadata": {},
   "source": [
    "### Preliminaries\n",
    "\n",
    "Consider a random variable that has a **Probability Density Function** f(t), and a **Cumulative Distribution Function** F(t): As per the definition of CDF from a given PDF, we can define cdf as F(t) = P (T< t); here, F(t) gives us the probability that the event has occurred by duration t. In simple words, F(t) gives us the proportion of population who will die (or survive) with a time value < t.\n",
    "\n",
    "**Survival Function**: S(t) = 1 - F(t) = P(T ≥t); S(t) gives us the probability that the event has not occurred by the time t. In simple words, S(t) gives us the proportion of population that will survive after a period of time > t.\n",
    "\n",
    "**Hazard Function**: h(t) Along with the survival function, we are also interested in the rate at which event is taking place, out of the surviving population at any given time t. In medical terms, we can define it as “out of the people who survived at time t, what is the rate of dying of those people”.\n",
    "\n",
    "h(t) = [( S(t) -S(t + dt) )/dt] / S(t) ... the rate of tying at time t\n",
    "\n",
    "limit dt → 0\n",
    "\n",
    "[1] Survival Analysis: Intuition & Implementation in Python: https://towardsdatascience.com/survival-analysis-intuition-implementation-in-python-504fde4fcf8e  "
   ]
  },
  {
   "cell_type": "code",
   "execution_count": 14,
   "metadata": {},
   "outputs": [
    {
     "name": "stdout",
     "output_type": "stream",
     "text": [
      "Instantaneous rate of dying T greater than 5 years =  8.4\n",
      "Observations are made at year t = 0, 1, 2, 3, 4, 5, 6\n"
     ]
    }
   ],
   "source": [
    "## The rate of dying is 10% at the fith year\n",
    "##\n",
    "h = 0.1\n",
    "print ('Instantaneous rate of dying T greater than 5 years = ', early_patients_positive * h)\n",
    "\n",
    "## Therefore, the survival analysis will calculate the 'survival rate' for each event of interest at time T > 0\n",
    "## Radon variable 'T' denotes the time from diagnosis to the death of a randomly selected patient\n",
    "## Pr(T > 5 | ) = 0.1 of the diagnosed will die.\n",
    "##\n",
    "t = [0, 1, 2, 3, 4, 5, 6]\n",
    "print('Observations are made at year t =', str(t)[1:-1])\n",
    "\n",
    "## estimated as 95% confidence interval, ie +/- 10%, and from 85% to 95%\n",
    "##\n",
    "desired_confidence_interval = [.85, .95]"
   ]
  },
  {
   "cell_type": "markdown",
   "metadata": {},
   "source": [
    "## Methods for achieving \"estimation accuracy\"\n",
    "\n",
    "When you know the actual functional form of the hazard function, the **fully parametric survival model** is far more efficient than the **Cox model**. Statistical efficiency is like power. A good way to think of it is the width of the confidence interval for your final estimate of the log-hazard ratios: a tight CI is the result of an efficient analysis (assuming you have an unbiased estimator [2]. The advantages of _Cox Proportional Hazards regression over fully parametric ones, without assumption on the distribution of the survival time_ -- If you know the parametric distribution that your data follows then using a maximum likelihood approach and the distribution makes sense. The real advantage of Cox Proportional Hazards regression is that you can still fit survival models without knowing (or assuming) the distribution [3].\n",
    "\n",
    "[2] In survival analysis, when should we use fully parametric models over semi-parametric ones? https://stats.stackexchange.com/questions/399544/in-survival-analysis-when-should-we-use-fully-parametric-models-over-semi-param\n",
    "\n",
    "[3] In survival analysis, why do we use semi-parametric models (Cox proportional hazards) instead of fully parametric models? https://stats.stackexchange.com/questions/64739/in-survival-analysis-why-do-we-use-semi-parametric-models-cox-proportional-haz/64743#64743 \n",
    "\n",
    "[4] The restricted cubic spline as baseline hazard in the proportional hazards model with step function time‐dependent covariables: https://onlinelibrary.wiley.com/doi/pdf/10.1002/sim.4780141906\n",
    "\n",
    "### Kaplan-Meier estimator\n",
    "This is a non-parametric method called the Kaplan-Meier estimator and comes with the [\"lifelines\"](https://lifelines.readthedocs.io/en/latest/Survival%20Analysis%20intro.html) python library. In the KM estimation,**n(i)** is deﬁned as the population at risk at time just prior to time **t(i)**; and **d(i)** is defined as number of events occurred at time *t(i)*. This, will become more clear with the example below. The **inclusion of censored data to calculate the estimates**, makes the *KM survival analysis* very powerful, and it stands out as compared to many other statistical techniques.\n",
    "\n",
    "Mathematically, for any time t ∈ [t1, t2), we have S(t) = P(survive in [0, t1)) × P(survive in [t1, t] | survive in [0, t1))"
   ]
  },
  {
   "cell_type": "code",
   "execution_count": 16,
   "metadata": {},
   "outputs": [
    {
     "name": "stdout",
     "output_type": "stream",
     "text": [
      "Initializing numner of cases at risk n = 84, 0, 0, 0, 76, 0\n",
      "Number of positive cases at risk; n(t=0) = 84\n",
      "Number of positive cases at risk; n(t=4) = 76\n",
      "Initializing survival rates for each year; s= 1, 1, 1, 1, 1, 1\n",
      "Initializing mutation rates for each year; d= 0, 0.056, 0.056, 0.056, 4.256, 0.056\n"
     ]
    }
   ],
   "source": [
    "n=[0 for i in range(len(t)-1)]\n",
    "n[0] = early_patients_positive\n",
    "n[4] = num_patients_survive_5yrs\n",
    "print('Initializing numner of cases at risk n =', str(n)[1:-1])\n",
    "s=[1 for i in range(len(t)-1)]\n",
    "print('Number of positive cases at risk; n(t=0) =',str(n[0]))\n",
    "print('Number of positive cases at risk; n(t=4) =',str(n[4]))\n",
    "print('Initializing survival rates for each year; s=', str(s)[1:-1])\n",
    "##\n",
    "## Number of mutations (events) that occured at time t=0 is 0, implies d(0)=0\n",
    "## The probability that a positive case can mutate after 1 year is 5.6%\n",
    "d = [mutation_rate for i in range(len(t)-1)]\n",
    "d[0]=0\n",
    "d[4]=n[4]*mutation_rate\n",
    "print('Initializing mutation rates for each year; d=', str(d)[1:-1])\n",
    "##\n",
    "## Python code to create the above Kaplan Meier curve\n",
    "from lifelines import KaplanMeierFitter\n",
    "\n"
   ]
  },
  {
   "cell_type": "markdown",
   "metadata": {},
   "source": [
    "### Cox propotional hazard model\n"
   ]
  }
 ],
 "metadata": {
  "kernelspec": {
   "display_name": "Python 3",
   "language": "python",
   "name": "python3"
  },
  "language_info": {
   "codemirror_mode": {
    "name": "ipython",
    "version": 3
   },
   "file_extension": ".py",
   "mimetype": "text/x-python",
   "name": "python",
   "nbconvert_exporter": "python",
   "pygments_lexer": "ipython3",
   "version": "3.9.1"
  }
 },
 "nbformat": 4,
 "nbformat_minor": 4
}
